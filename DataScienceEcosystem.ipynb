{
 "cells": [
  {
   "cell_type": "markdown",
   "id": "65f13d28-1638-4c23-8c52-aa783b5a7d81",
   "metadata": {},
   "source": [
    "#Data Science Tools and Ecosystem"
   ]
  },
  {
   "cell_type": "markdown",
   "id": "d9e9510c-a2c1-4a9b-b38a-53f281eddaf0",
   "metadata": {},
   "source": [
    "In this notebook, Data Science Tools and Ecosystem are summarized."
   ]
  },
  {
   "cell_type": "markdown",
   "id": "afbe0453-2f64-422b-9a81-f05d43e5cffa",
   "metadata": {},
   "source": [
    "##Author\\\n",
    "Dmitry M"
   ]
  },
  {
   "cell_type": "markdown",
   "id": "1518413a-c766-4349-bf38-f4364164397f",
   "metadata": {},
   "source": [
    "**Objectives**\n",
    "- Learn the popular languages used by Data Scientists\n",
    "- List the commonly used libraries by Data Scientists\n",
    "- Learn how to use Jupyter notebooks\n",
    "- Learn about the different frameworks and tools used in Data Scient"
   ]
  },
  {
   "cell_type": "markdown",
   "id": "b65bbc9f-e56d-47d0-b06c-d2862eba3e06",
   "metadata": {},
   "source": [
    "Some of the popular languages that Data Scientists use are:\n",
    "1. Python\n",
    "2. Scala\n",
    "3. R\n",
    "4. C++"
   ]
  },
  {
   "cell_type": "markdown",
   "id": "226882dc-ef9b-4442-ad94-d9cfec974137",
   "metadata": {},
   "source": [
    "Some of the commonly used libraries used by Data Scientists include:\n",
    "\n",
    "1. Scikit-Learn\n",
    "2. Pandas\n",
    "3. Pytorch\n",
    "4. Tensorflow\n",
    "5. NLTK"
   ]
  },
  {
   "cell_type": "markdown",
   "id": "c99d243b-67a1-467f-b89a-241558f3f955",
   "metadata": {},
   "source": [
    "|Data Science Tools|\n",
    "|:-----------------|\n",
    "|MySQL|\n",
    "|Kubernetes|\n",
    "|Watson Studio|\n",
    "|Redshift|"
   ]
  },
  {
   "cell_type": "markdown",
   "id": "aa672246-c572-410c-a5ad-b137bd82756b",
   "metadata": {},
   "source": [
    "###Below are a few examples of evaluating arithmetic expressions in Python."
   ]
  },
  {
   "cell_type": "code",
   "execution_count": 1,
   "id": "a5af1938-e361-4622-a25a-bc0175f0c625",
   "metadata": {
    "tags": []
   },
   "outputs": [
    {
     "data": {
      "text/plain": [
       "17"
      ]
     },
     "execution_count": 1,
     "metadata": {},
     "output_type": "execute_result"
    }
   ],
   "source": [
    "#This a simple arithmetic expression to mutiply then add integers.\n",
    "\n",
    "(3 * 4) + 5"
   ]
  },
  {
   "cell_type": "code",
   "execution_count": 2,
   "id": "9056d254-4ebc-4107-996a-033cc062308c",
   "metadata": {
    "tags": []
   },
   "outputs": [
    {
     "data": {
      "text/plain": [
       "3.3333333333333335"
      ]
     },
     "execution_count": 2,
     "metadata": {},
     "output_type": "execute_result"
    }
   ],
   "source": [
    "#This will convert 200 minutes to hours\n",
    "\n",
    "200 / 60"
   ]
  },
  {
   "cell_type": "code",
   "execution_count": null,
   "id": "9efc0959-7845-4c2d-9307-2713ad0621e3",
   "metadata": {},
   "outputs": [],
   "source": []
  }
 ],
 "metadata": {
  "kernelspec": {
   "display_name": "Python",
   "language": "python",
   "name": "conda-env-python-py"
  },
  "language_info": {
   "codemirror_mode": {
    "name": "ipython",
    "version": 3
   },
   "file_extension": ".py",
   "mimetype": "text/x-python",
   "name": "python",
   "nbconvert_exporter": "python",
   "pygments_lexer": "ipython3",
   "version": "3.7.12"
  }
 },
 "nbformat": 4,
 "nbformat_minor": 5
}
